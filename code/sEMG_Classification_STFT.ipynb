{
 "cells": [
  {
   "cell_type": "code",
   "execution_count": 1,
   "id": "0709b05d",
   "metadata": {},
   "outputs": [],
   "source": [
    "import tensorflow as tf\n",
    "import numpy as np\n",
    "import matplotlib.pyplot as plt\n",
    "from scipy.signal import stft\n",
    "from bmis_emg_utils import * \n",
    "from scipy.io import loadmat, savemat\n",
    "\n",
    "from mlxtend.plotting import plot_confusion_matrix\n",
    "from tensorflow.keras import backend as K\n",
    "from sklearn.metrics import confusion_matrix\n",
    "from sklearn.metrics import accuracy_score \n",
    "from sklearn import metrics\n",
    "import matplotlib\n",
    "from tensorflow.keras.utils import plot_model\n",
    "import tensorflow_model_optimization as tfmot"
   ]
  },
  {
   "cell_type": "code",
   "execution_count": 2,
   "id": "a35a0616",
   "metadata": {},
   "outputs": [
    {
     "name": "stdout",
     "output_type": "stream",
     "text": [
      "The total data shape is (8, 66614) and label is (66614,)\n"
     ]
    }
   ],
   "source": [
    "specific_subject = 1\n",
    "abs_path = os.getcwd().strip('code')\n",
    "path = os.path.join(abs_path, 'test_data')\n",
    "data_subject_1, label_subject_1 = get_data_subject_specific(specific_subject)\n",
    "label_subject_1 = label_subject_1.reshape(-1)\n",
    "print('The total data shape is {} and label is {}'.format(data_subject_1.shape, label_subject_1.shape))"
   ]
  },
  {
   "cell_type": "code",
   "execution_count": 3,
   "id": "28e8ad2a",
   "metadata": {
    "scrolled": true
   },
   "outputs": [
    {
     "name": "stdout",
     "output_type": "stream",
     "text": [
      "The total Input data shape after windowing is (8, 66614) and label is (66614,)\n"
     ]
    }
   ],
   "source": [
    "X_1, y_1 = window_with_overlap(data_subject_1, label_subject_1, sampling_frequency=200, window_time=200, overlap=50)\n",
    "print('The total Input data shape after windowing is {} and label is {}'.format(data_subject_1.shape, label_subject_1.shape))"
   ]
  },
  {
   "cell_type": "code",
   "execution_count": 4,
   "id": "d9d7d5ca",
   "metadata": {
    "scrolled": true
   },
   "outputs": [
    {
     "name": "stdout",
     "output_type": "stream",
     "text": [
      "Training Set is(2996, 8, 40) Test Set (333, 8, 40)\n"
     ]
    }
   ],
   "source": [
    "X_train_1, y_train_1, X_test_1, y_test_1 = spilt_data(X_1, y_1, ratio=0.1)\n",
    "print('Training Set is{} Test Set {}'.format(X_train_1.shape, X_test_1.shape))"
   ]
  },
  {
   "cell_type": "code",
   "execution_count": 5,
   "id": "ec6b9708",
   "metadata": {},
   "outputs": [
    {
     "name": "stdout",
     "output_type": "stream",
     "text": [
      "The total data shape is (8, 66556) and label is (66556,)\n"
     ]
    }
   ],
   "source": [
    "specific_subject = 2\n",
    "abs_path = os.getcwd().strip('code')\n",
    "path = os.path.join(abs_path, 'test_data')\n",
    "data_subject_2, label_subject_2 = get_data_subject_specific(specific_subject)\n",
    "label_subject_2 = label_subject_2.reshape(-1)\n",
    "print('The total data shape is {} and label is {}'.format(data_subject_2.shape, label_subject_2.shape))"
   ]
  },
  {
   "cell_type": "code",
   "execution_count": 6,
   "id": "cdc27d32",
   "metadata": {},
   "outputs": [
    {
     "name": "stdout",
     "output_type": "stream",
     "text": [
      "The total Input data shape after windowing is (8, 66614) and label is (66614,)\n"
     ]
    }
   ],
   "source": [
    "X_2, y_2 = window_with_overlap(data_subject_2, label_subject_2, sampling_frequency=200, window_time=200, overlap=50)\n",
    "print('The total Input data shape after windowing is {} and label is {}'.format(data_subject_1.shape, label_subject_1.shape))"
   ]
  },
  {
   "cell_type": "code",
   "execution_count": 7,
   "id": "bdb14706",
   "metadata": {
    "scrolled": true
   },
   "outputs": [
    {
     "name": "stdout",
     "output_type": "stream",
     "text": [
      "Training Set is(665, 8, 40) Test Set (2661, 8, 40)\n"
     ]
    }
   ],
   "source": [
    "on_device_train, on_device_train_y, on_device_test, on_device_test_y = spilt_data(X_2, y_2, ratio=0.8)\n",
    "print('Training Set is{} Test Set {}'.format(on_device_train.shape, on_device_test.shape))"
   ]
  },
  {
   "cell_type": "code",
   "execution_count": 8,
   "id": "37e08671",
   "metadata": {},
   "outputs": [],
   "source": [
    "gesture_list = ['Large Diameter grasp', 'Meduim Ring Diameter Grasp',\n",
    "               'Three Finger Sphere Grasp', 'Prismatic Pinch Grasp',\n",
    "               'Power Grasp', 'Cut', 'Rest']"
   ]
  },
  {
   "cell_type": "code",
   "execution_count": 9,
   "id": "e976bc01",
   "metadata": {},
   "outputs": [],
   "source": [
    "def get_features(data, fs=200, n_samples=40):\n",
    "    \n",
    "    f, t, cstft = stft(data, fs, nperseg=n_samples)\n",
    "    return np.abs(cstft)"
   ]
  },
  {
   "cell_type": "code",
   "execution_count": 10,
   "id": "827cd6b6",
   "metadata": {},
   "outputs": [],
   "source": [
    "cstft_tr_1 = []\n",
    "cstft_ts_1 = []\n",
    "cstft_tr_2 = []\n",
    "cstft_ts_2 = []\n",
    "\n",
    "for i, idx in enumerate(X_train_1):\n",
    "    a = get_features(X_train_1[i])\n",
    "    cstft_tr_1.append(a)\n",
    "\n",
    "\n",
    "for i, idx in enumerate(X_test_1):\n",
    "    b = get_features(X_test_1[i])\n",
    "    cstft_ts_1.append(b)\n",
    "\n",
    "\n",
    "for i, idx in enumerate(on_device_train):\n",
    "    c = get_features(on_device_train[i])\n",
    "    cstft_tr_2.append(c)\n",
    "\n",
    "for i, idx in enumerate(on_device_test):\n",
    "    c = get_features(on_device_test[i])\n",
    "    cstft_ts_2.append(c)\n",
    "    \n",
    "cstft_x_train_1 = np.array(cstft_tr_1)\n",
    "cstft_x_test_1 = np.array(cstft_ts_1)\n",
    "cstft_on_device_train = np.array(cstft_tr_2)\n",
    "cstft_on_device_test = np.array(cstft_ts_2)"
   ]
  },
  {
   "cell_type": "code",
   "execution_count": 11,
   "id": "a59ed178",
   "metadata": {},
   "outputs": [
    {
     "name": "stdout",
     "output_type": "stream",
     "text": [
      "Shape are (2996, 8, 21, 3),(333, 8, 21, 3)\n"
     ]
    }
   ],
   "source": [
    "print(\"Shape are {},{}\".format(cstft_x_train_1.shape, cstft_x_test_1.shape))"
   ]
  },
  {
   "cell_type": "code",
   "execution_count": 12,
   "id": "6bbeacd0",
   "metadata": {
    "scrolled": true
   },
   "outputs": [
    {
     "name": "stdout",
     "output_type": "stream",
     "text": [
      "Shape are (2996, 1),(333, 1)\n"
     ]
    }
   ],
   "source": [
    "print(\"Shape are {},{}\".format(y_train_1.shape, y_test_1.shape))"
   ]
  },
  {
   "cell_type": "code",
   "execution_count": 13,
   "id": "f24135f0",
   "metadata": {},
   "outputs": [],
   "source": [
    "input_size = cstft_x_train_1.shape[1:]"
   ]
  },
  {
   "cell_type": "code",
   "execution_count": 14,
   "id": "446383dd",
   "metadata": {
    "scrolled": false
   },
   "outputs": [
    {
     "name": "stderr",
     "output_type": "stream",
     "text": [
      "2022-07-31 00:51:00.621151: I tensorflow/compiler/jit/xla_cpu_device.cc:41] Not creating XLA devices, tf_xla_enable_xla_devices not set\n",
      "2022-07-31 00:51:00.621355: I tensorflow/core/platform/cpu_feature_guard.cc:142] This TensorFlow binary is optimized with oneAPI Deep Neural Network Library (oneDNN) to use the following CPU instructions in performance-critical operations:  SSE4.1 SSE4.2 AVX AVX2 FMA\n",
      "To enable them in other operations, rebuild TensorFlow with the appropriate compiler flags.\n",
      "2022-07-31 00:51:00.622140: I tensorflow/core/common_runtime/process_util.cc:146] Creating new thread pool with default inter op setting: 2. Tune using inter_op_parallelism_threads for best performance.\n"
     ]
    }
   ],
   "source": [
    "X_train_cstft = tf.convert_to_tensor(cstft_x_train_1, dtype=tf.float32)\n",
    "X_test_cstft = tf.convert_to_tensor(cstft_x_test_1, dtype=tf.float32)\n",
    "#cstft_on_device_train = tf.convert_to_tensor(cstft_on_device_train, dtype=tf.float32)\n",
    "#cstft_on_device_test = tf.convert_to_tensor(cstft_on_device_test, dtype=tf.float32)"
   ]
  },
  {
   "cell_type": "code",
   "execution_count": 15,
   "id": "189da8a1",
   "metadata": {},
   "outputs": [],
   "source": [
    "path = \"/home/darcula-venom/Documents/AI Workspace/Coral_TPU_sEMG_Classifiacation/on_device_test_data\"\n",
    "mdic = {'data': cstft_on_device_train, 'label': on_device_train_y}\n",
    "savemat(path + \"/stft_train_data.mat\", mdic)\n",
    "#save_hardware_test_data(path=path, data=cstft_on_device_train, label=on_device_train_y, choice='Train')\n",
    "mdic_2 = {'data': cstft_on_device_test, 'label': on_device_test_y}\n",
    "savemat(path + \"/stft_test_data.mat\", mdic_2)\n",
    "#save_hardware_test_data(path=path, data=cstft_on_device_test, label=on_device_test_y, choice='Test')"
   ]
  },
  {
   "cell_type": "markdown",
   "id": "470f963f",
   "metadata": {},
   "source": [
    "Convert to TFLIte"
   ]
  },
  {
   "cell_type": "code",
   "execution_count": 16,
   "id": "c2af5737",
   "metadata": {},
   "outputs": [],
   "source": [
    "model = tf.keras.Sequential()\n",
    "model.add(tf.keras.layers.Conv2D(32, 3, activation=\"relu\", input_shape=input_size))\n",
    "model.add(tf.keras.layers.Conv2D(32, 3, activation=\"relu\"))\n",
    "model.add(tf.keras.layers.MaxPool2D((2,2)))\n",
    "model.add(tf.keras.layers.Dropout(0.5))\n",
    "model.add(tf.keras.layers.Flatten())\n",
    "model.add(tf.keras.layers.Dense(151, activation='relu'))\n",
    "model.add(tf.keras.layers.Dense(7, activation='softmax'))"
   ]
  },
  {
   "cell_type": "code",
   "execution_count": 17,
   "id": "51c290f9",
   "metadata": {},
   "outputs": [
    {
     "name": "stdout",
     "output_type": "stream",
     "text": [
      "Model: \"sequential\"\n",
      "_________________________________________________________________\n",
      "Layer (type)                 Output Shape              Param #   \n",
      "=================================================================\n",
      "quantize_layer (QuantizeLaye (None, 8, 21, 3)          3         \n",
      "_________________________________________________________________\n",
      "quant_conv2d (QuantizeWrappe (None, 6, 19, 32)         963       \n",
      "_________________________________________________________________\n",
      "quant_conv2d_1 (QuantizeWrap (None, 4, 17, 32)         9315      \n",
      "_________________________________________________________________\n",
      "quant_max_pooling2d (Quantiz (None, 2, 8, 32)          1         \n",
      "_________________________________________________________________\n",
      "quant_dropout (QuantizeWrapp (None, 2, 8, 32)          1         \n",
      "_________________________________________________________________\n",
      "quant_flatten (QuantizeWrapp (None, 512)               1         \n",
      "_________________________________________________________________\n",
      "quant_dense (QuantizeWrapper (None, 151)               77468     \n",
      "_________________________________________________________________\n",
      "quant_dense_1 (QuantizeWrapp (None, 7)                 1069      \n",
      "=================================================================\n",
      "Total params: 88,821\n",
      "Trainable params: 88,671\n",
      "Non-trainable params: 150\n",
      "_________________________________________________________________\n"
     ]
    }
   ],
   "source": [
    "#emg_model = emg_net()\n",
    "quantized_model = tfmot.quantization.keras.quantize_model(model)\n",
    "quantized_model.summary()"
   ]
  },
  {
   "cell_type": "code",
   "execution_count": 18,
   "id": "bd6b945b",
   "metadata": {},
   "outputs": [],
   "source": [
    "lr = 0.001\n",
    "opt = tf.keras.optimizers.Adam(learning_rate=lr, epsilon=1e-07, clipnorm=1)\n",
    "ls = 'sparse_categorical_crossentropy'\n",
    "mtr = 'accuracy'\n",
    "n_batches = 15\n",
    "n_epochs = 30\n",
    "callback = tf.keras.callbacks.EarlyStopping(monitor='val_loss', patience=3)\n",
    "quantized_model.compile(optimizer=opt, loss=ls, metrics=mtr)"
   ]
  },
  {
   "cell_type": "code",
   "execution_count": 19,
   "id": "8f9def23",
   "metadata": {
    "scrolled": true
   },
   "outputs": [
    {
     "name": "stderr",
     "output_type": "stream",
     "text": [
      "2022-07-31 00:51:02.559391: I tensorflow/compiler/mlir/mlir_graph_optimization_pass.cc:116] None of the MLIR optimization passes are enabled (registered 2)\n",
      "2022-07-31 00:51:02.578984: I tensorflow/core/platform/profile_utils/cpu_utils.cc:112] CPU Frequency: 3399905000 Hz\n"
     ]
    },
    {
     "name": "stdout",
     "output_type": "stream",
     "text": [
      "Epoch 1/30\n",
      "200/200 [==============================] - 5s 19ms/step - loss: 1.7675 - accuracy: 0.2439 - val_loss: 0.6279 - val_accuracy: 0.7598\n",
      "Epoch 2/30\n",
      "200/200 [==============================] - 3s 13ms/step - loss: 0.6654 - accuracy: 0.7425 - val_loss: 0.3954 - val_accuracy: 0.8619\n",
      "Epoch 3/30\n",
      "200/200 [==============================] - 3s 15ms/step - loss: 0.4561 - accuracy: 0.8346 - val_loss: 0.3808 - val_accuracy: 0.8559\n",
      "Epoch 4/30\n",
      "200/200 [==============================] - 3s 16ms/step - loss: 0.3703 - accuracy: 0.8709 - val_loss: 0.3180 - val_accuracy: 0.8709\n",
      "Epoch 5/30\n",
      "200/200 [==============================] - 5s 23ms/step - loss: 0.3319 - accuracy: 0.8668 - val_loss: 0.2703 - val_accuracy: 0.8949\n",
      "Epoch 6/30\n",
      "200/200 [==============================] - 5s 25ms/step - loss: 0.2885 - accuracy: 0.8953 - val_loss: 0.2616 - val_accuracy: 0.9099\n",
      "Epoch 7/30\n",
      "200/200 [==============================] - 5s 23ms/step - loss: 0.2765 - accuracy: 0.9040 - val_loss: 0.2206 - val_accuracy: 0.9279\n",
      "Epoch 8/30\n",
      "200/200 [==============================] - 3s 17ms/step - loss: 0.2728 - accuracy: 0.8925 - val_loss: 0.2362 - val_accuracy: 0.9189\n",
      "Epoch 9/30\n",
      "200/200 [==============================] - 3s 14ms/step - loss: 0.2549 - accuracy: 0.9019 - val_loss: 0.2045 - val_accuracy: 0.9249\n",
      "Epoch 10/30\n",
      "200/200 [==============================] - 4s 19ms/step - loss: 0.2428 - accuracy: 0.9120 - val_loss: 0.2093 - val_accuracy: 0.9099\n",
      "Epoch 11/30\n",
      "200/200 [==============================] - 4s 20ms/step - loss: 0.2223 - accuracy: 0.9206 - val_loss: 0.2052 - val_accuracy: 0.9279\n",
      "Epoch 12/30\n",
      "200/200 [==============================] - 3s 15ms/step - loss: 0.2259 - accuracy: 0.9060 - val_loss: 0.1991 - val_accuracy: 0.9219\n",
      "Epoch 13/30\n",
      "200/200 [==============================] - 4s 22ms/step - loss: 0.2117 - accuracy: 0.9185 - val_loss: 0.1828 - val_accuracy: 0.9219\n",
      "Epoch 14/30\n",
      "200/200 [==============================] - 5s 25ms/step - loss: 0.2402 - accuracy: 0.9246 - val_loss: 0.1710 - val_accuracy: 0.9309\n",
      "Epoch 15/30\n",
      "200/200 [==============================] - 4s 19ms/step - loss: 0.1886 - accuracy: 0.9348 - val_loss: 0.1409 - val_accuracy: 0.9459\n",
      "Epoch 16/30\n",
      "200/200 [==============================] - 4s 21ms/step - loss: 0.2006 - accuracy: 0.9263 - val_loss: 0.1470 - val_accuracy: 0.9520\n",
      "Epoch 17/30\n",
      "200/200 [==============================] - 3s 18ms/step - loss: 0.1887 - accuracy: 0.9245 - val_loss: 0.1878 - val_accuracy: 0.9279\n",
      "Epoch 18/30\n",
      "200/200 [==============================] - 5s 25ms/step - loss: 0.1890 - accuracy: 0.9282 - val_loss: 0.1507 - val_accuracy: 0.9369\n"
     ]
    }
   ],
   "source": [
    "history = quantized_model.fit(X_train_cstft, y_train_1, validation_data=(X_test_cstft,y_test_1), \n",
    "                 callbacks=callback, batch_size=n_batches, epochs= n_epochs)"
   ]
  },
  {
   "cell_type": "code",
   "execution_count": 21,
   "id": "17454600",
   "metadata": {
    "scrolled": true
   },
   "outputs": [
    {
     "data": {
      "image/png": "[encoded data removed]",
      "text/plain": [
       "<Figure size 576x576 with 2 Axes>"
      ]
     },
     "metadata": {
      "needs_background": "light"
     },
     "output_type": "display_data"
    }
   ],
   "source": [
    "n_epochs = 18\n",
    "validation_loss = history.history['val_loss']\n",
    "training_loss = history.history['loss']\n",
    "\n",
    "validation_accuracy = history.history['val_accuracy']\n",
    "training_accuracy = history.history['accuracy']\n",
    "\n",
    "epoch_range = range(n_epochs)\n",
    "plt.figure(figsize=(8,8))\n",
    "\n",
    "plt.subplot(1, 2, 1)\n",
    "plt.plot(epoch_range, training_accuracy, label = \"Training Accuracy\")\n",
    "plt.plot(epoch_range, validation_accuracy, label = \"Validation Accuracy\")\n",
    "plt.xlabel(\"Epochs\")\n",
    "plt.ylabel(\"Accuracy\")\n",
    "plt.legend(loc=\"lower right\")\n",
    "plt.title(\"STFT Input Training and Validation Accuracy\")\n",
    "\n",
    "plt.subplot(1, 2, 2)\n",
    "plt.plot(epoch_range, training_loss, label = \"Training Loss\")\n",
    "plt.plot(epoch_range, validation_loss, label = \"Validation Loss\")\n",
    "plt.xlabel(\"Epochs\")\n",
    "plt.ylabel(\"Accuracy\")\n",
    "plt.legend(loc=\"upper right\")\n",
    "plt.title(\"STFT Input Training and Validation Loss\")\n",
    "plt.show()"
   ]
  },
  {
   "cell_type": "code",
   "execution_count": 22,
   "id": "ff8b7f48",
   "metadata": {},
   "outputs": [
    {
     "name": "stderr",
     "output_type": "stream",
     "text": [
      "2022-07-31 00:52:40.917429: W tensorflow/python/util/util.cc:348] Sets are not currently considered sequences, but this may change in the future, so consider avoiding using them.\n",
      "WARNING:absl:Found untraced functions such as conv2d_layer_call_fn, conv2d_layer_call_and_return_conditional_losses, conv2d_1_layer_call_fn, conv2d_1_layer_call_and_return_conditional_losses, dropout_layer_call_fn while saving (showing 5 of 30). These functions will not be directly callable after loading.\n",
      "WARNING:absl:Found untraced functions such as conv2d_layer_call_fn, conv2d_layer_call_and_return_conditional_losses, conv2d_1_layer_call_fn, conv2d_1_layer_call_and_return_conditional_losses, dropout_layer_call_fn while saving (showing 5 of 30). These functions will not be directly callable after loading.\n"
     ]
    },
    {
     "name": "stdout",
     "output_type": "stream",
     "text": [
      "INFO:tensorflow:Assets written to: /tmp/tmpmcq_ygk2/assets\n"
     ]
    },
    {
     "name": "stderr",
     "output_type": "stream",
     "text": [
      "INFO:tensorflow:Assets written to: /tmp/tmpmcq_ygk2/assets\n",
      "2022-07-31 00:52:42.077167: I tensorflow/core/grappler/devices.cc:78] Number of eligible GPUs (core count >= 8, compute capability >= 0.0): 0 (Note: TensorFlow was not compiled with CUDA or ROCm support)\n",
      "2022-07-31 00:52:42.077294: I tensorflow/core/grappler/clusters/single_machine.cc:356] Starting new session\n",
      "2022-07-31 00:52:42.078709: I tensorflow/core/grappler/optimizers/meta_optimizer.cc:928] Optimization results for grappler item: graph_to_optimize\n",
      "  function_optimizer: function_optimizer did nothing. time = 0.002ms.\n",
      "  function_optimizer: function_optimizer did nothing. time = 0ms.\n",
      "\n",
      "2022-07-31 00:52:42.138249: W tensorflow/compiler/mlir/lite/python/tf_tfl_flatbuffer_helpers.cc:316] Ignored output_format.\n",
      "2022-07-31 00:52:42.138281: W tensorflow/compiler/mlir/lite/python/tf_tfl_flatbuffer_helpers.cc:319] Ignored drop_control_dependency.\n",
      "2022-07-31 00:52:42.142712: I tensorflow/core/common_runtime/process_util.cc:146] Creating new thread pool with default inter op setting: 2. Tune using inter_op_parallelism_threads for best performance.\n"
     ]
    }
   ],
   "source": [
    "converter = tf.lite.TFLiteConverter.from_keras_model(quantized_model)\n",
    "converter.optimizations = [tf.lite.Optimize.DEFAULT]\n",
    "qat_tf_model_quantized_tflite_model = converter.convert()\n",
    "\n",
    "with open(\"qat_tf_model_quantized_tflite_model_STFT.tflite\", \"wb\") as f:\n",
    "    f.write(qat_tf_model_quantized_tflite_model)"
   ]
  },
  {
   "cell_type": "code",
   "execution_count": 23,
   "id": "f3a5af9a",
   "metadata": {
    "scrolled": true
   },
   "outputs": [
    {
     "name": "stderr",
     "output_type": "stream",
     "text": [
      "WARNING:absl:Found untraced functions such as conv2d_layer_call_fn, conv2d_layer_call_and_return_conditional_losses, conv2d_1_layer_call_fn, conv2d_1_layer_call_and_return_conditional_losses, dropout_layer_call_fn while saving (showing 5 of 30). These functions will not be directly callable after loading.\n",
      "WARNING:absl:Found untraced functions such as conv2d_layer_call_fn, conv2d_layer_call_and_return_conditional_losses, conv2d_1_layer_call_fn, conv2d_1_layer_call_and_return_conditional_losses, dropout_layer_call_fn while saving (showing 5 of 30). These functions will not be directly callable after loading.\n"
     ]
    },
    {
     "name": "stdout",
     "output_type": "stream",
     "text": [
      "INFO:tensorflow:Assets written to: /tmp/tmpt1ybqmv0/assets\n"
     ]
    },
    {
     "name": "stderr",
     "output_type": "stream",
     "text": [
      "INFO:tensorflow:Assets written to: /tmp/tmpt1ybqmv0/assets\n",
      "2022-07-31 00:52:44.009256: I tensorflow/core/grappler/devices.cc:78] Number of eligible GPUs (core count >= 8, compute capability >= 0.0): 0 (Note: TensorFlow was not compiled with CUDA or ROCm support)\n",
      "2022-07-31 00:52:44.009361: I tensorflow/core/grappler/clusters/single_machine.cc:356] Starting new session\n",
      "2022-07-31 00:52:44.010687: I tensorflow/core/grappler/optimizers/meta_optimizer.cc:928] Optimization results for grappler item: graph_to_optimize\n",
      "  function_optimizer: function_optimizer did nothing. time = 0.002ms.\n",
      "  function_optimizer: function_optimizer did nothing. time = 0ms.\n",
      "\n",
      "2022-07-31 00:52:44.070066: W tensorflow/compiler/mlir/lite/python/tf_tfl_flatbuffer_helpers.cc:316] Ignored output_format.\n",
      "2022-07-31 00:52:44.070099: W tensorflow/compiler/mlir/lite/python/tf_tfl_flatbuffer_helpers.cc:319] Ignored drop_control_dependency.\n"
     ]
    }
   ],
   "source": [
    "converter = tf.lite.TFLiteConverter.from_keras_model(quantized_model)\n",
    "converter.optimizations = [tf.lite.Optimize.DEFAULT]\n",
    "qat_tflite_model = converter.convert()\n",
    "\n",
    "with open('QAT_BMIS_EMG_NET_STFT_INPUT.tflite', 'wb') as f:\n",
    "  f.write(qat_tflite_model)"
   ]
  },
  {
   "cell_type": "code",
   "execution_count": 24,
   "id": "64464a1c",
   "metadata": {},
   "outputs": [
    {
     "name": "stdout",
     "output_type": "stream",
     "text": [
      "Quant TF Lite accuracy: 100.000%\n"
     ]
    }
   ],
   "source": [
    "def set_input_tensor(interpreter, input):\n",
    "    \n",
    "  input_details = interpreter.get_input_details()[0]\n",
    "  tensor_index = input_details['index']\n",
    "  input_tensor = interpreter.tensor(tensor_index)()[0]\n",
    "  scale, zero_point = input_details['quantization']\n",
    "  input_tensor[:, :] = np.uint8(input / scale + zero_point)\n",
    "\n",
    "def classify_image(interpreter, input):\n",
    "  set_input_tensor(interpreter, input)\n",
    "  interpreter.invoke()\n",
    "  output_details = interpreter.get_output_details()[0]\n",
    "  output = interpreter.get_tensor(output_details['index'])\n",
    "  # Outputs from the TFLite model are uint8, so we dequantize the results:\n",
    "  scale, zero_point = output_details['quantization']\n",
    "  output = scale * (output - zero_point)\n",
    "  top_1 = np.argmax(output)\n",
    "  return top_1\n",
    "\n",
    "interpreter = tf.lite.Interpreter('QAT_BMIS_EMG_NET_STFT_INPUT.tflite')\n",
    "interpreter.allocate_tensors()\n",
    "\n",
    "# Collect all inference predictions in a list\n",
    "batch_prediction = []\n",
    "batch_truth = np.argmax(y_test_1, axis=1)\n",
    "\n",
    "for i in range(len(X_test_cstft)):\n",
    "  prediction = classify_image(interpreter, X_test_cstft[i])\n",
    "  batch_prediction.append(prediction)\n",
    "\n",
    "# Compare all predictions to the ground truth\n",
    "tflite_accuracy = tf.keras.metrics.Accuracy()\n",
    "tflite_accuracy(batch_prediction, batch_truth)\n",
    "print(\"Quant TF Lite accuracy: {:.3%}\".format(tflite_accuracy.result()))"
   ]
  },
  {
   "cell_type": "code",
   "execution_count": 25,
   "id": "103628fe",
   "metadata": {},
   "outputs": [
    {
     "data": {
      "text/plain": [
       "0.9369369369369369"
      ]
     },
     "execution_count": 25,
     "metadata": {},
     "output_type": "execute_result"
    }
   ],
   "source": [
    "pred = quantized_model.predict(X_test_cstft)\n",
    "y_pred = np.argmax(pred, axis=-1)\n",
    "accuracy_score(y_test_1, y_pred)"
   ]
  },
  {
   "cell_type": "code",
   "execution_count": 26,
   "id": "b20ffad0",
   "metadata": {
    "scrolled": true
   },
   "outputs": [
    {
     "data": {
      "text/plain": [
       "(<Figure size 360x360 with 1 Axes>,\n",
       " <AxesSubplot:xlabel='predicted label', ylabel='true label'>)"
      ]
     },
     "execution_count": 26,
     "metadata": {},
     "output_type": "execute_result"
    },
    {
     "data": {
      "image/png": "[encoded data removed]",
      "text/plain": [
       "<Figure size 360x360 with 1 Axes>"
      ]
     },
     "metadata": {
      "needs_background": "light"
     },
     "output_type": "display_data"
    }
   ],
   "source": [
    "confusion = confusion_matrix(y_test_1, y_pred)\n",
    "plot_confusion_matrix(conf_mat=confusion, figsize=(5,5), class_names=gesture_list, show_normed=True)"
   ]
  },
  {
   "cell_type": "code",
   "execution_count": 27,
   "id": "fd304a48",
   "metadata": {},
   "outputs": [],
   "source": [
    "dataset = loadmat('/home/darcula-venom/Documents/AI Workspace/Coral_TPU_sEMG_Classifiacation/on_device_test_data/stft_test_data.mat')\n",
    "d = dataset['data']\n",
    "l = dataset['label']"
   ]
  },
  {
   "cell_type": "code",
   "execution_count": 28,
   "id": "e096df7c",
   "metadata": {},
   "outputs": [
    {
     "data": {
      "text/plain": [
       "(2661, 8, 21, 3)"
      ]
     },
     "execution_count": 28,
     "metadata": {},
     "output_type": "execute_result"
    }
   ],
   "source": [
    "d.shape"
   ]
  }
 ],
 "metadata": {
  "kernelspec": {
   "display_name": "sEMG-tensorflow",
   "language": "python",
   "name": "semg-tensorflow"
  },
  "language_info": {
   "codemirror_mode": {
    "name": "ipython",
    "version": 3
   },
   "file_extension": ".py",
   "mimetype": "text/x-python",
   "name": "python",
   "nbconvert_exporter": "python",
   "pygments_lexer": "ipython3",
   "version": "3.8.10"
  }
 },
 "nbformat": 4,
 "nbformat_minor": 5
}
