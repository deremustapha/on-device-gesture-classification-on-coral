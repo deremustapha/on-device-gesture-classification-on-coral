{
 "cells": [
  {
   "cell_type": "code",
   "execution_count": 1,
   "id": "abf20594",
   "metadata": {},
   "outputs": [],
   "source": [
    "import tensorflow as tf\n",
    "import numpy as np\n",
    "import matplotlib.pyplot as plt\n",
    "from scipy.signal import stft\n",
    "from bmis_emg_utils import * \n",
    "from scipy.io import loadmat, savemat\n",
    "\n",
    "from mlxtend.plotting import plot_confusion_matrix\n",
    "from tensorflow.keras import backend as K\n",
    "from sklearn.metrics import confusion_matrix\n",
    "from sklearn.metrics import accuracy_score \n",
    "from sklearn import metrics\n",
    "import matplotlib\n",
    "from tensorflow.keras.utils import plot_model\n",
    "import tensorflow_model_optimization as tfmot"
   ]
  },
  {
   "cell_type": "code",
   "execution_count": 2,
   "id": "96877e26",
   "metadata": {},
   "outputs": [
    {
     "name": "stdout",
     "output_type": "stream",
     "text": [
      "The total data shape is (8, 66614) and label is (66614,)\n"
     ]
    }
   ],
   "source": [
    "specific_subject = 1\n",
    "data_subject_1, label_subject_1 = get_data_subject_specific(specific_subject)\n",
    "label_subject_1 = label_subject_1.reshape(-1)\n",
    "print('The total data shape is {} and label is {}'.format(data_subject_1.shape, label_subject_1.shape))"
   ]
  },
  {
   "cell_type": "code",
   "execution_count": 3,
   "id": "941639db",
   "metadata": {},
   "outputs": [
    {
     "name": "stdout",
     "output_type": "stream",
     "text": [
      "The total Input data shape after windowing is (8, 66614) and label is (66614,)\n"
     ]
    }
   ],
   "source": [
    "X_1, y_1 = window_with_overlap(data_subject_1, label_subject_1, sampling_frequency=200, window_time=200, overlap=50)\n",
    "print('The total Input data shape after windowing is {} and label is {}'.format(data_subject_1.shape, label_subject_1.shape))"
   ]
  },
  {
   "cell_type": "code",
   "execution_count": 4,
   "id": "d1ace55e",
   "metadata": {},
   "outputs": [
    {
     "name": "stdout",
     "output_type": "stream",
     "text": [
      "Training Set is(2996, 8, 40) Test Set (333, 8, 40)\n"
     ]
    }
   ],
   "source": [
    "X_train_1, y_train_1, X_test_1, y_test_1 = spilt_data(X_1, y_1, ratio=0.1)\n",
    "print('Training Set is{} Test Set {}'.format(X_train_1.shape, X_test_1.shape))"
   ]
  },
  {
   "cell_type": "code",
   "execution_count": 5,
   "id": "a359ea4f",
   "metadata": {},
   "outputs": [
    {
     "name": "stdout",
     "output_type": "stream",
     "text": [
      "The total data shape is (8, 66556) and label is (66556,)\n"
     ]
    }
   ],
   "source": [
    "specific_subject = 2\n",
    "data_subject_2, label_subject_2 = get_data_subject_specific(specific_subject)\n",
    "label_subject_2 = label_subject_2.reshape(-1)\n",
    "print('The total data shape is {} and label is {}'.format(data_subject_2.shape, label_subject_2.shape))"
   ]
  },
  {
   "cell_type": "code",
   "execution_count": 6,
   "id": "9e22a25c",
   "metadata": {},
   "outputs": [
    {
     "name": "stdout",
     "output_type": "stream",
     "text": [
      "The total Input data shape after windowing is (8, 66614) and label is (66614,)\n"
     ]
    }
   ],
   "source": [
    "X_2, y_2 = window_with_overlap(data_subject_2, label_subject_2, sampling_frequency=200, window_time=200, overlap=50)\n",
    "print('The total Input data shape after windowing is {} and label is {}'.format(data_subject_1.shape, label_subject_1.shape))"
   ]
  },
  {
   "cell_type": "code",
   "execution_count": 7,
   "id": "230d7f3c",
   "metadata": {
    "scrolled": false
   },
   "outputs": [
    {
     "name": "stdout",
     "output_type": "stream",
     "text": [
      "Training Set is(665, 8, 40) Test Set (2661, 8, 40)\n"
     ]
    }
   ],
   "source": [
    "on_device_train, on_device_train_y, on_device_test, on_device_test_y = spilt_data(X_2, y_2, ratio=0.8)\n",
    "print('Training Set is{} Test Set {}'.format(on_device_train.shape, on_device_test.shape))"
   ]
  },
  {
   "cell_type": "code",
   "execution_count": 8,
   "id": "b91aaf8d",
   "metadata": {},
   "outputs": [
    {
     "name": "stdout",
     "output_type": "stream",
     "text": [
      "Expanded Dimension are (2996, 8, 40, 1)\n",
      "The input shape to the DNN is (8, 40, 1)\n"
     ]
    }
   ],
   "source": [
    "# Expanding the input feature shape\n",
    "\n",
    "X_train_1 = np.expand_dims(X_train_1, axis=3)\n",
    "X_test_1 = np.expand_dims(X_test_1, axis=3)\n",
    "\n",
    "on_device_train = np.expand_dims(on_device_train, axis=3)\n",
    "on_device_test = np.expand_dims(on_device_test, axis=3)\n",
    "\n",
    "input_size = X_train_1.shape[1:]\n",
    "print('Expanded Dimension are {}'.format(X_train_1.shape))\n",
    "print('The input shape to the DNN is {}'.format(input_size))"
   ]
  },
  {
   "cell_type": "code",
   "execution_count": 9,
   "id": "455873ec",
   "metadata": {},
   "outputs": [],
   "source": [
    "#on_device_train = tf.convert_to_tensor(on_device_train, dtype=tf.float32)\n",
    "#on_device_test  = tf.convert_to_tensor(on_device_test,  dtype=tf.float32)"
   ]
  },
  {
   "cell_type": "raw",
   "id": "1cb5ab19",
   "metadata": {},
   "source": [
    "def save_hardware_test_data(path, data, label, choice='Train'):\n",
    "    mdic = {'data': data, 'label': label}\n",
    "    \n",
    "    if choice == 'Train':\n",
    "        savemat(path + \"/raw_train_data.mat\", mdic)\n",
    "    elif choice == 'Test':\n",
    "        savemat(path + \"/raw_test_data.mat\", mdic)\n",
    "    else:\n",
    "        print(\"Include a choice\")"
   ]
  },
  {
   "cell_type": "code",
   "execution_count": 10,
   "id": "46260717",
   "metadata": {},
   "outputs": [],
   "source": [
    "path = \"/home/darcula-venom/Documents/AI Workspace/Coral_TPU_sEMG_Classifiacation/on_device_test_data\"\n",
    "mdic = {'data': on_device_train, 'label': on_device_train_y}\n",
    "savemat(path + \"/raw_train_data.mat\", mdic)\n",
    "#save_hardware_test_data(path=path, data=cstft_on_device_train, label=on_device_train_y, choice='Train')\n",
    "mdic_2 = {'data': on_device_test, 'label': on_device_test_y}\n",
    "savemat(path + \"/raw_test_data.mat\", mdic_2)\n",
    "#save_hardware_test_data(path=path, data=cstft_on_device_test, label=on_device_test_y, choice='Test')"
   ]
  },
  {
   "cell_type": "code",
   "execution_count": 11,
   "id": "966520bc",
   "metadata": {},
   "outputs": [],
   "source": [
    "gesture_list = ['Large Diameter grasp', 'Meduim Ring Diameter Grasp',\n",
    "               'Three Finger Sphere Grasp', 'Prismatic Pinch Grasp',\n",
    "               'Power Grasp', 'Cut', 'Rest']"
   ]
  },
  {
   "cell_type": "code",
   "execution_count": 12,
   "id": "8d82e22c",
   "metadata": {},
   "outputs": [
    {
     "name": "stderr",
     "output_type": "stream",
     "text": [
      "2022-07-31 00:48:40.847249: I tensorflow/compiler/jit/xla_cpu_device.cc:41] Not creating XLA devices, tf_xla_enable_xla_devices not set\n",
      "2022-07-31 00:48:40.848283: I tensorflow/core/platform/cpu_feature_guard.cc:142] This TensorFlow binary is optimized with oneAPI Deep Neural Network Library (oneDNN) to use the following CPU instructions in performance-critical operations:  SSE4.1 SSE4.2 AVX AVX2 FMA\n",
      "To enable them in other operations, rebuild TensorFlow with the appropriate compiler flags.\n",
      "2022-07-31 00:48:40.848911: I tensorflow/core/common_runtime/process_util.cc:146] Creating new thread pool with default inter op setting: 2. Tune using inter_op_parallelism_threads for best performance.\n"
     ]
    }
   ],
   "source": [
    "X_train_1 = tf.convert_to_tensor(X_train_1, dtype=tf.float32)\n",
    "X_test_1  = tf.convert_to_tensor(X_test_1 , dtype=tf.float32)"
   ]
  },
  {
   "cell_type": "code",
   "execution_count": 13,
   "id": "9db8abe1",
   "metadata": {},
   "outputs": [],
   "source": [
    "model = tf.keras.Sequential()\n",
    "model.add(tf.keras.layers.Conv2D(32, 3, activation=\"relu\", input_shape=input_size))\n",
    "model.add(tf.keras.layers.Conv2D(32, 3, activation=\"relu\"))\n",
    "model.add(tf.keras.layers.MaxPool2D((2,2)))\n",
    "model.add(tf.keras.layers.Dropout(0.5))\n",
    "model.add(tf.keras.layers.Flatten())\n",
    "model.add(tf.keras.layers.Dense(151, activation='relu'))\n",
    "model.add(tf.keras.layers.Dense(7, activation='softmax'))"
   ]
  },
  {
   "cell_type": "code",
   "execution_count": 14,
   "id": "e79cc6a1",
   "metadata": {},
   "outputs": [
    {
     "name": "stdout",
     "output_type": "stream",
     "text": [
      "Model: \"sequential\"\n",
      "_________________________________________________________________\n",
      "Layer (type)                 Output Shape              Param #   \n",
      "=================================================================\n",
      "quantize_layer (QuantizeLaye (None, 8, 40, 1)          3         \n",
      "_________________________________________________________________\n",
      "quant_conv2d (QuantizeWrappe (None, 6, 38, 32)         387       \n",
      "_________________________________________________________________\n",
      "quant_conv2d_1 (QuantizeWrap (None, 4, 36, 32)         9315      \n",
      "_________________________________________________________________\n",
      "quant_max_pooling2d (Quantiz (None, 2, 18, 32)         1         \n",
      "_________________________________________________________________\n",
      "quant_dropout (QuantizeWrapp (None, 2, 18, 32)         1         \n",
      "_________________________________________________________________\n",
      "quant_flatten (QuantizeWrapp (None, 1152)              1         \n",
      "_________________________________________________________________\n",
      "quant_dense (QuantizeWrapper (None, 151)               174108    \n",
      "_________________________________________________________________\n",
      "quant_dense_1 (QuantizeWrapp (None, 7)                 1069      \n",
      "=================================================================\n",
      "Total params: 184,885\n",
      "Trainable params: 184,735\n",
      "Non-trainable params: 150\n",
      "_________________________________________________________________\n"
     ]
    }
   ],
   "source": [
    "quantized_model = tfmot.quantization.keras.quantize_model(model)\n",
    "quantized_model.summary()"
   ]
  },
  {
   "cell_type": "code",
   "execution_count": 15,
   "id": "3f75121e",
   "metadata": {},
   "outputs": [],
   "source": [
    "lr = 0.001\n",
    "opt = tf.keras.optimizers.Adam(learning_rate=lr, epsilon=1e-07, clipnorm=1)\n",
    "ls = 'sparse_categorical_crossentropy'\n",
    "mtr = 'accuracy'\n",
    "n_batches = 15\n",
    "n_epochs = 30\n",
    "callback = tf.keras.callbacks.EarlyStopping(monitor='val_loss', patience=1)\n",
    "quantized_model.compile(optimizer=opt, loss=ls, metrics=mtr)"
   ]
  },
  {
   "cell_type": "code",
   "execution_count": 16,
   "id": "a192d469",
   "metadata": {},
   "outputs": [
    {
     "name": "stderr",
     "output_type": "stream",
     "text": [
      "2022-07-31 00:48:42.565217: I tensorflow/compiler/mlir/mlir_graph_optimization_pass.cc:116] None of the MLIR optimization passes are enabled (registered 2)\n",
      "2022-07-31 00:48:42.582955: I tensorflow/core/platform/profile_utils/cpu_utils.cc:112] CPU Frequency: 3399905000 Hz\n"
     ]
    },
    {
     "name": "stdout",
     "output_type": "stream",
     "text": [
      "Epoch 1/30\n",
      "200/200 [==============================] - 8s 36ms/step - loss: 1.6444 - accuracy: 0.2980 - val_loss: 0.6496 - val_accuracy: 0.7778\n",
      "Epoch 2/30\n",
      "200/200 [==============================] - 7s 36ms/step - loss: 0.6937 - accuracy: 0.7303 - val_loss: 0.4601 - val_accuracy: 0.8138\n",
      "Epoch 3/30\n",
      "200/200 [==============================] - 6s 32ms/step - loss: 0.5327 - accuracy: 0.7953 - val_loss: 0.4111 - val_accuracy: 0.8468\n",
      "Epoch 4/30\n",
      "200/200 [==============================] - 9s 44ms/step - loss: 0.4247 - accuracy: 0.8367 - val_loss: 0.3224 - val_accuracy: 0.8919\n",
      "Epoch 5/30\n",
      "200/200 [==============================] - 7s 36ms/step - loss: 0.3668 - accuracy: 0.8606 - val_loss: 0.3114 - val_accuracy: 0.9099\n",
      "Epoch 6/30\n",
      "200/200 [==============================] - 6s 32ms/step - loss: 0.3154 - accuracy: 0.8805 - val_loss: 0.2797 - val_accuracy: 0.8889\n",
      "Epoch 7/30\n",
      "200/200 [==============================] - 7s 36ms/step - loss: 0.2507 - accuracy: 0.9100 - val_loss: 0.2518 - val_accuracy: 0.9099\n",
      "Epoch 8/30\n",
      "200/200 [==============================] - 7s 35ms/step - loss: 0.2342 - accuracy: 0.9148 - val_loss: 0.2226 - val_accuracy: 0.9279\n",
      "Epoch 9/30\n",
      "200/200 [==============================] - 7s 36ms/step - loss: 0.2381 - accuracy: 0.9098 - val_loss: 0.1848 - val_accuracy: 0.9369\n",
      "Epoch 10/30\n",
      "200/200 [==============================] - 6s 29ms/step - loss: 0.1877 - accuracy: 0.9263 - val_loss: 0.1888 - val_accuracy: 0.9399\n"
     ]
    }
   ],
   "source": [
    "history = quantized_model.fit(X_train_1 , y_train_1, validation_data=(X_test_1,y_test_1), \n",
    "                  callbacks=callback, batch_size=n_batches, epochs= n_epochs)"
   ]
  },
  {
   "cell_type": "code",
   "execution_count": 18,
   "id": "42fbd509",
   "metadata": {},
   "outputs": [
    {
     "data": {
      "image/png": "[encoded data removed]",
      "text/plain": [
       "<Figure size 576x576 with 2 Axes>"
      ]
     },
     "metadata": {
      "needs_background": "light"
     },
     "output_type": "display_data"
    }
   ],
   "source": [
    "n_epochs = 10\n",
    "validation_loss = history.history['val_loss']\n",
    "training_loss = history.history['loss']\n",
    "\n",
    "validation_accuracy = history.history['val_accuracy']\n",
    "training_accuracy = history.history['accuracy']\n",
    "\n",
    "epoch_range = range(n_epochs)\n",
    "plt.figure(figsize=(8,8))\n",
    "\n",
    "plt.subplot(1, 2, 1)\n",
    "plt.plot(epoch_range, training_accuracy, label = \"Training Accuracy\")\n",
    "plt.plot(epoch_range, validation_accuracy, label = \"Validation Accuracy\")\n",
    "plt.xlabel(\"Epochs\")\n",
    "plt.ylabel(\"Accuracy\")\n",
    "plt.legend(loc=\"lower right\")\n",
    "plt.title(\"Raw Input Training and Validation Accuracy\")\n",
    "\n",
    "plt.subplot(1, 2, 2)\n",
    "plt.plot(epoch_range, training_loss, label = \"Training Loss\")\n",
    "plt.plot(epoch_range, validation_loss, label = \"Validation Loss\")\n",
    "plt.xlabel(\"Epochs\")\n",
    "plt.ylabel(\"Accuracy\")\n",
    "plt.legend(loc=\"upper right\")\n",
    "plt.title(\"Raw Input Training and Validation Loss\")\n",
    "plt.show()"
   ]
  },
  {
   "cell_type": "code",
   "execution_count": 19,
   "id": "56286bdd",
   "metadata": {},
   "outputs": [
    {
     "name": "stderr",
     "output_type": "stream",
     "text": [
      "2022-07-31 00:50:19.237384: W tensorflow/python/util/util.cc:348] Sets are not currently considered sequences, but this may change in the future, so consider avoiding using them.\n",
      "WARNING:absl:Found untraced functions such as conv2d_layer_call_and_return_conditional_losses, conv2d_layer_call_fn, conv2d_1_layer_call_and_return_conditional_losses, conv2d_1_layer_call_fn, dropout_layer_call_and_return_conditional_losses while saving (showing 5 of 30). These functions will not be directly callable after loading.\n",
      "WARNING:absl:Found untraced functions such as conv2d_layer_call_and_return_conditional_losses, conv2d_layer_call_fn, conv2d_1_layer_call_and_return_conditional_losses, conv2d_1_layer_call_fn, dropout_layer_call_and_return_conditional_losses while saving (showing 5 of 30). These functions will not be directly callable after loading.\n"
     ]
    },
    {
     "name": "stdout",
     "output_type": "stream",
     "text": [
      "INFO:tensorflow:Assets written to: /tmp/tmprcyel47u/assets\n"
     ]
    },
    {
     "name": "stderr",
     "output_type": "stream",
     "text": [
      "INFO:tensorflow:Assets written to: /tmp/tmprcyel47u/assets\n",
      "2022-07-31 00:50:20.389929: I tensorflow/core/grappler/devices.cc:78] Number of eligible GPUs (core count >= 8, compute capability >= 0.0): 0 (Note: TensorFlow was not compiled with CUDA or ROCm support)\n",
      "2022-07-31 00:50:20.390076: I tensorflow/core/grappler/clusters/single_machine.cc:356] Starting new session\n",
      "2022-07-31 00:50:20.391430: I tensorflow/core/grappler/optimizers/meta_optimizer.cc:928] Optimization results for grappler item: graph_to_optimize\n",
      "  function_optimizer: function_optimizer did nothing. time = 0.001ms.\n",
      "  function_optimizer: function_optimizer did nothing. time = 0.001ms.\n",
      "\n",
      "2022-07-31 00:50:20.460576: W tensorflow/compiler/mlir/lite/python/tf_tfl_flatbuffer_helpers.cc:316] Ignored output_format.\n",
      "2022-07-31 00:50:20.460618: W tensorflow/compiler/mlir/lite/python/tf_tfl_flatbuffer_helpers.cc:319] Ignored drop_control_dependency.\n",
      "2022-07-31 00:50:20.465597: I tensorflow/core/common_runtime/process_util.cc:146] Creating new thread pool with default inter op setting: 2. Tune using inter_op_parallelism_threads for best performance.\n"
     ]
    }
   ],
   "source": [
    "converter = tf.lite.TFLiteConverter.from_keras_model(quantized_model)\n",
    "converter.optimizations = [tf.lite.Optimize.DEFAULT]\n",
    "qat_tf_model_quantized_tflite_model = converter.convert()\n",
    "\n",
    "with open(\"qat_tf_model_quantized_tflite_model_raw.tflite\", \"wb\") as f:\n",
    "    f.write(qat_tf_model_quantized_tflite_model)"
   ]
  },
  {
   "cell_type": "code",
   "execution_count": 20,
   "id": "30b81266",
   "metadata": {},
   "outputs": [
    {
     "name": "stderr",
     "output_type": "stream",
     "text": [
      "WARNING:absl:Found untraced functions such as conv2d_layer_call_and_return_conditional_losses, conv2d_layer_call_fn, conv2d_1_layer_call_and_return_conditional_losses, conv2d_1_layer_call_fn, dropout_layer_call_and_return_conditional_losses while saving (showing 5 of 30). These functions will not be directly callable after loading.\n",
      "WARNING:absl:Found untraced functions such as conv2d_layer_call_and_return_conditional_losses, conv2d_layer_call_fn, conv2d_1_layer_call_and_return_conditional_losses, conv2d_1_layer_call_fn, dropout_layer_call_and_return_conditional_losses while saving (showing 5 of 30). These functions will not be directly callable after loading.\n"
     ]
    },
    {
     "name": "stdout",
     "output_type": "stream",
     "text": [
      "INFO:tensorflow:Assets written to: /tmp/tmpy0h7ixbt/assets\n"
     ]
    },
    {
     "name": "stderr",
     "output_type": "stream",
     "text": [
      "INFO:tensorflow:Assets written to: /tmp/tmpy0h7ixbt/assets\n",
      "2022-07-31 00:50:26.101633: I tensorflow/core/grappler/devices.cc:78] Number of eligible GPUs (core count >= 8, compute capability >= 0.0): 0 (Note: TensorFlow was not compiled with CUDA or ROCm support)\n",
      "2022-07-31 00:50:26.101787: I tensorflow/core/grappler/clusters/single_machine.cc:356] Starting new session\n",
      "2022-07-31 00:50:26.103196: I tensorflow/core/grappler/optimizers/meta_optimizer.cc:928] Optimization results for grappler item: graph_to_optimize\n",
      "  function_optimizer: function_optimizer did nothing. time = 0.001ms.\n",
      "  function_optimizer: function_optimizer did nothing. time = 0ms.\n",
      "\n",
      "2022-07-31 00:50:26.160720: W tensorflow/compiler/mlir/lite/python/tf_tfl_flatbuffer_helpers.cc:316] Ignored output_format.\n",
      "2022-07-31 00:50:26.160748: W tensorflow/compiler/mlir/lite/python/tf_tfl_flatbuffer_helpers.cc:319] Ignored drop_control_dependency.\n"
     ]
    }
   ],
   "source": [
    "converter = tf.lite.TFLiteConverter.from_keras_model(quantized_model)\n",
    "converter.optimizations = [tf.lite.Optimize.DEFAULT]\n",
    "qat_tflite_model = converter.convert()\n",
    "\n",
    "with open('QAT_BMIS_EMG_NET_RAW_INPUT.tflite', 'wb') as f:\n",
    "  f.write(qat_tflite_model)"
   ]
  },
  {
   "cell_type": "code",
   "execution_count": 21,
   "id": "52d684e9",
   "metadata": {},
   "outputs": [
    {
     "name": "stdout",
     "output_type": "stream",
     "text": [
      "Quant TF Lite accuracy: 100.000%\n"
     ]
    }
   ],
   "source": [
    "def set_input_tensor(interpreter, input):\n",
    "    \n",
    "  input_details = interpreter.get_input_details()[0]\n",
    "  tensor_index = input_details['index']\n",
    "  input_tensor = interpreter.tensor(tensor_index)()[0]\n",
    "  scale, zero_point = input_details['quantization']\n",
    "  input_tensor[:, :] = np.uint8(input / scale + zero_point)\n",
    "\n",
    "def classify_image(interpreter, input):\n",
    "  set_input_tensor(interpreter, input)\n",
    "  interpreter.invoke()\n",
    "  output_details = interpreter.get_output_details()[0]\n",
    "  output = interpreter.get_tensor(output_details['index'])\n",
    "  # Outputs from the TFLite model are uint8, so we dequantize the results:\n",
    "  scale, zero_point = output_details['quantization']\n",
    "  output = scale * (output - zero_point)\n",
    "  top_1 = np.argmax(output)\n",
    "  return top_1\n",
    "\n",
    "interpreter = tf.lite.Interpreter('QAT_BMIS_EMG_NET_RAW_INPUT.tflite')\n",
    "interpreter.allocate_tensors()\n",
    "\n",
    "# Collect all inference predictions in a list\n",
    "batch_prediction = []\n",
    "batch_truth = np.argmax(y_test_1, axis=1)\n",
    "\n",
    "for i in range(len(X_test_1 )):\n",
    "  prediction = classify_image(interpreter, X_test_1[i])\n",
    "  batch_prediction.append(prediction)\n",
    "\n",
    "# Compare all predictions to the ground truth\n",
    "tflite_accuracy = tf.keras.metrics.Accuracy()\n",
    "tflite_accuracy(batch_prediction, batch_truth)\n",
    "print(\"Quant TF Lite accuracy: {:.3%}\".format(tflite_accuracy.result()))"
   ]
  },
  {
   "cell_type": "code",
   "execution_count": 22,
   "id": "7ea247b2",
   "metadata": {},
   "outputs": [
    {
     "data": {
      "text/plain": [
       "0.93993993993994"
      ]
     },
     "execution_count": 22,
     "metadata": {},
     "output_type": "execute_result"
    }
   ],
   "source": [
    "pred = quantized_model.predict(X_test_1)\n",
    "y_pred = np.argmax(pred, axis=-1)\n",
    "accuracy_score(y_test_1, y_pred)"
   ]
  },
  {
   "cell_type": "code",
   "execution_count": 23,
   "id": "8b5372e0",
   "metadata": {
    "scrolled": true
   },
   "outputs": [
    {
     "data": {
      "text/plain": [
       "(<Figure size 360x360 with 1 Axes>,\n",
       " <AxesSubplot:xlabel='predicted label', ylabel='true label'>)"
      ]
     },
     "execution_count": 23,
     "metadata": {},
     "output_type": "execute_result"
    },
    {
     "data": {
      "image/png": "[encoded data removed]",
      "text/plain": [
       "<Figure size 360x360 with 1 Axes>"
      ]
     },
     "metadata": {
      "needs_background": "light"
     },
     "output_type": "display_data"
    }
   ],
   "source": [
    "confusion = confusion_matrix(y_test_1, y_pred)\n",
    "plot_confusion_matrix(conf_mat=confusion, figsize=(5,5), class_names=gesture_list, show_normed=True)"
   ]
  },
  {
   "cell_type": "code",
   "execution_count": 24,
   "id": "eca6ec73",
   "metadata": {},
   "outputs": [],
   "source": [
    "dataset = loadmat('/home/darcula-venom/Documents/AI Workspace/Coral_TPU_sEMG_Classifiacation/on_device_test_data/raw_test_data.mat')\n",
    "d = dataset['data']\n",
    "l = dataset['label']"
   ]
  },
  {
   "cell_type": "code",
   "execution_count": 25,
   "id": "968c6794",
   "metadata": {},
   "outputs": [
    {
     "data": {
      "text/plain": [
       "(2661, 8, 40, 1)"
      ]
     },
     "execution_count": 25,
     "metadata": {},
     "output_type": "execute_result"
    }
   ],
   "source": [
    "d.shape"
   ]
  }
 ],
 "metadata": {
  "kernelspec": {
   "display_name": "sEMG-tensorflow",
   "language": "python",
   "name": "semg-tensorflow"
  },
  "language_info": {
   "codemirror_mode": {
    "name": "ipython",
    "version": 3
   },
   "file_extension": ".py",
   "mimetype": "text/x-python",
   "name": "python",
   "nbconvert_exporter": "python",
   "pygments_lexer": "ipython3",
   "version": "3.8.10"
  }
 },
 "nbformat": 4,
 "nbformat_minor": 5
}
